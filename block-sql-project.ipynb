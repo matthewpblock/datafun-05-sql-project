{
 "cells": [
  {
   "cell_type": "markdown",
   "metadata": {},
   "source": [
    "# SQL Demonstration with NBA Data"
   ]
  },
  {
   "cell_type": "code",
   "execution_count": 1,
   "metadata": {},
   "outputs": [
    {
     "name": "stderr",
     "output_type": "stream",
     "text": [
      "\u001b[32m2025-02-10 21:00:53.188\u001b[0m | \u001b[1mINFO    \u001b[0m | \u001b[36mutils_logger\u001b[0m:\u001b[36m<module>\u001b[0m:\u001b[36m34\u001b[0m - \u001b[1mLog folder created at: logs\u001b[0m\n",
      "\u001b[32m2025-02-10 21:00:53.195\u001b[0m | \u001b[1mINFO    \u001b[0m | \u001b[36mutils_logger\u001b[0m:\u001b[36m<module>\u001b[0m:\u001b[36m41\u001b[0m - \u001b[1mLogging to file: logs\\project_log.log\u001b[0m\n",
      "\u001b[32m2025-02-10 21:00:53.201\u001b[0m | \u001b[1mINFO    \u001b[0m | \u001b[36mdb03_queries\u001b[0m:\u001b[36mjoin\u001b[0m:\u001b[36m142\u001b[0m - \u001b[1mConnected to database: C:\\Projects\\MS_Data_Analytics\\Data_Fundamentals\\datafun-05-sql-project\\data\\db.sqlite\u001b[0m\n",
      "\u001b[32m2025-02-10 21:00:53.266\u001b[0m | \u001b[1mINFO    \u001b[0m | \u001b[36mdb03_queries\u001b[0m:\u001b[36mjoin\u001b[0m:\u001b[36m149\u001b[0m - \u001b[1mJoined successfully.\u001b[0m\n",
      "\u001b[32m2025-02-10 21:00:53.266\u001b[0m | \u001b[1mINFO    \u001b[0m | \u001b[36mdb03_queries\u001b[0m:\u001b[36mjoin\u001b[0m:\u001b[36m154\u001b[0m - \u001b[1mDatabase connection closed.\u001b[0m\n"
     ]
    },
    {
     "name": "stdout",
     "output_type": "stream",
     "text": [
      "       date     first        last  pts  reb  ast  stl  blk  height_inches  \\\n",
      "0  20191209  Domantas     Sabonis   18   22    4    1    1             83   \n",
      "1  20191029   Anthony       Davis   40   20    2    0    2             82   \n",
      "2  20200107     Andre    Drummond   23   20    5    1    2             82   \n",
      "3  20200813     Boban  Marjanovic   18   20    3    0    0             88   \n",
      "4  20200111      Enes      Kanter   22   19    1    0    0             82   \n",
      "\n",
      "   weight  season_exp      pos  \n",
      "0     240           4  Forward  \n",
      "1     253           8  Forward  \n",
      "2     279           8   Center  \n",
      "3     290           5   Center  \n",
      "4     250           9   Center  \n"
     ]
    }
   ],
   "source": [
    "import pandas as pd\n",
    "import loguru\n",
    "import pathlib\n",
    "import sqlite3\n",
    "from utils_logger import logger\n",
    "import db03_queries as queries\n",
    "\n",
    "queries.join()"
   ]
  }
 ],
 "metadata": {
  "kernelspec": {
   "display_name": ".venv",
   "language": "python",
   "name": "python3"
  },
  "language_info": {
   "codemirror_mode": {
    "name": "ipython",
    "version": 3
   },
   "file_extension": ".py",
   "mimetype": "text/x-python",
   "name": "python",
   "nbconvert_exporter": "python",
   "pygments_lexer": "ipython3",
   "version": "3.12.7"
  }
 },
 "nbformat": 4,
 "nbformat_minor": 2
}
