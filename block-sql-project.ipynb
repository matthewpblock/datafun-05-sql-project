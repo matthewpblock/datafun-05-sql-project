{
 "cells": [
  {
   "cell_type": "markdown",
   "metadata": {},
   "source": [
    "# SQL Demonstration with NBA Data"
   ]
  },
  {
   "cell_type": "code",
   "execution_count": 5,
   "metadata": {},
   "outputs": [
    {
     "name": "stderr",
     "output_type": "stream",
     "text": [
      "\u001b[32m2025-02-09 19:42:08.886\u001b[0m | \u001b[1mINFO    \u001b[0m | \u001b[36mdb03_queries\u001b[0m:\u001b[36msorting_rim_protection\u001b[0m:\u001b[36m63\u001b[0m - \u001b[1mConnected to database: C:\\Projects\\MS_Data_Analytics\\Data_Fundamentals\\datafun-05-sql-project\\data\\db.sqlite\u001b[0m\n",
      "\u001b[32m2025-02-09 19:42:08.889\u001b[0m | \u001b[31m\u001b[1mERROR   \u001b[0m | \u001b[36mdb03_queries\u001b[0m:\u001b[36mexecute_sql_file\u001b[0m:\u001b[36m57\u001b[0m - \u001b[31m\u001b[1mFailed to execute C:\\Projects\\MS_Data_Analytics\\Data_Fundamentals\\datafun-05-sql-project\\sql_queries\\query_sorting.sql: Cannot operate on a closed database.\u001b[0m\n",
      "\u001b[32m2025-02-09 19:42:08.891\u001b[0m | \u001b[31m\u001b[1mERROR   \u001b[0m | \u001b[36mdb03_queries\u001b[0m:\u001b[36msorting_rim_protection\u001b[0m:\u001b[36m70\u001b[0m - \u001b[31m\u001b[1mError during sorting: Cannot operate on a closed database.\u001b[0m\n",
      "\u001b[32m2025-02-09 19:42:08.892\u001b[0m | \u001b[1mINFO    \u001b[0m | \u001b[36mdb03_queries\u001b[0m:\u001b[36msorting_rim_protection\u001b[0m:\u001b[36m73\u001b[0m - \u001b[1mDatabase connection closed.\u001b[0m\n"
     ]
    }
   ],
   "source": [
    "\n",
    "# Imports from Python Standard Library\n",
    "import sqlite3\n",
    "import pathlib\n",
    "\n",
    "# Import local modules\n",
    "from utils_logger import logger\n",
    "import db03_queries as queries\n",
    "\n",
    "############################################\n",
    "# Define Variables\n",
    "############################################\n",
    "\n",
    "queries.sorting_rim_protection()"
   ]
  }
 ],
 "metadata": {
  "kernelspec": {
   "display_name": ".venv",
   "language": "python",
   "name": "python3"
  },
  "language_info": {
   "codemirror_mode": {
    "name": "ipython",
    "version": 3
   },
   "file_extension": ".py",
   "mimetype": "text/x-python",
   "name": "python",
   "nbconvert_exporter": "python",
   "pygments_lexer": "ipython3",
   "version": "3.12.7"
  }
 },
 "nbformat": 4,
 "nbformat_minor": 2
}
