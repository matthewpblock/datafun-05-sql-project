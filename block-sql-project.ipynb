{
 "cells": [
  {
   "cell_type": "markdown",
   "metadata": {},
   "source": [
    "# SQL Demonstration with NBA Data"
   ]
  },
  {
   "cell_type": "code",
   "execution_count": 1,
   "metadata": {},
   "outputs": [
    {
     "name": "stdout",
     "output_type": "stream",
     "text": [
      "c:\\Projects\\MS_Data_Analytics\\Data_Fundamentals\\datafun-05-sql-project\\.venv\\Scripts\\python.exe\n"
     ]
    }
   ],
   "source": [
    "import sys\n",
    "print(sys.executable)"
   ]
  },
  {
   "cell_type": "code",
   "execution_count": 2,
   "metadata": {},
   "outputs": [
    {
     "name": "stderr",
     "output_type": "stream",
     "text": [
      "\u001b[32m2025-02-10 20:36:12.185\u001b[0m | \u001b[1mINFO    \u001b[0m | \u001b[36mutils_logger\u001b[0m:\u001b[36m<module>\u001b[0m:\u001b[36m34\u001b[0m - \u001b[1mLog folder created at: logs\u001b[0m\n",
      "\u001b[32m2025-02-10 20:36:12.185\u001b[0m | \u001b[1mINFO    \u001b[0m | \u001b[36mutils_logger\u001b[0m:\u001b[36m<module>\u001b[0m:\u001b[36m41\u001b[0m - \u001b[1mLogging to file: logs\\project_log.log\u001b[0m\n",
      "\u001b[32m2025-02-10 20:36:12.194\u001b[0m | \u001b[1mINFO    \u001b[0m | \u001b[36mdb03_queries\u001b[0m:\u001b[36mjoin\u001b[0m:\u001b[36m142\u001b[0m - \u001b[1mConnected to database: C:\\Projects\\MS_Data_Analytics\\Data_Fundamentals\\datafun-05-sql-project\\data\\db.sqlite\u001b[0m\n",
      "\u001b[32m2025-02-10 20:36:12.241\u001b[0m | \u001b[1mINFO    \u001b[0m | \u001b[36mdb03_queries\u001b[0m:\u001b[36mjoin\u001b[0m:\u001b[36m149\u001b[0m - \u001b[1mJoined successfully.\u001b[0m\n",
      "\u001b[32m2025-02-10 20:36:12.245\u001b[0m | \u001b[1mINFO    \u001b[0m | \u001b[36mdb03_queries\u001b[0m:\u001b[36mjoin\u001b[0m:\u001b[36m154\u001b[0m - \u001b[1mDatabase connection closed.\u001b[0m\n"
     ]
    },
    {
     "name": "stdout",
     "output_type": "stream",
     "text": [
      "       date   first      last  pts  reb  ast  stl  blk  height_inches  weight  \\\n",
      "0  20191022  LeBron     James   18   10    8    1    1             81     250   \n",
      "1  20191022  Dwight    Howard    3    6    1    0    1             82     265   \n",
      "2  20191022     Lou  Williams   21    5    7    1    0             73     175   \n",
      "3  20191022   Jared    Dudley    6    0    0    0    0             78     237   \n",
      "4  20191022  JaVale     McGee    4    2    0    0    2             84     270   \n",
      "\n",
      "   season_exp      pos  \n",
      "0          17  Forward  \n",
      "1          16   Center  \n",
      "2          15    Guard  \n",
      "3          13  Forward  \n",
      "4          12   Center  \n"
     ]
    }
   ],
   "source": [
    "import pandas as pd\n",
    "import loguru\n",
    "import pathlib\n",
    "import sqlite3\n",
    "from utils_logger import logger\n",
    "import db03_queries as queries\n",
    "\n",
    "queries.join()"
   ]
  }
 ],
 "metadata": {
  "kernelspec": {
   "display_name": ".venv",
   "language": "python",
   "name": "python3"
  },
  "language_info": {
   "codemirror_mode": {
    "name": "ipython",
    "version": 3
   },
   "file_extension": ".py",
   "mimetype": "text/x-python",
   "name": "python",
   "nbconvert_exporter": "python",
   "pygments_lexer": "ipython3",
   "version": "3.12.7"
  }
 },
 "nbformat": 4,
 "nbformat_minor": 2
}
