{
 "cells": [
  {
   "cell_type": "markdown",
   "metadata": {},
   "source": [
    "# SQL Demonstration with NBA Data"
   ]
  },
  {
   "cell_type": "code",
   "execution_count": 9,
   "metadata": {},
   "outputs": [
    {
     "name": "stderr",
     "output_type": "stream",
     "text": [
      "\u001b[32m2025-02-09 20:37:00.014\u001b[0m | \u001b[1mINFO    \u001b[0m | \u001b[36mdb03_queries\u001b[0m:\u001b[36maggregation\u001b[0m:\u001b[36m111\u001b[0m - \u001b[1mConnected to database: C:\\Projects\\MS_Data_Analytics\\Data_Fundamentals\\datafun-05-sql-project\\data\\db.sqlite\u001b[0m\n",
      "\u001b[32m2025-02-09 20:37:00.021\u001b[0m | \u001b[31m\u001b[1mERROR   \u001b[0m | \u001b[36mdb03_queries\u001b[0m:\u001b[36mexecute_sql_file\u001b[0m:\u001b[36m57\u001b[0m - \u001b[31m\u001b[1mFailed to execute C:\\Projects\\MS_Data_Analytics\\Data_Fundamentals\\datafun-05-sql-project\\sql_queries\\query_aggregation.sql: Cannot operate on a closed database.\u001b[0m\n",
      "\u001b[32m2025-02-09 20:37:00.024\u001b[0m | \u001b[31m\u001b[1mERROR   \u001b[0m | \u001b[36mdb03_queries\u001b[0m:\u001b[36maggregation\u001b[0m:\u001b[36m115\u001b[0m - \u001b[31m\u001b[1mError during aggregation: Cannot operate on a closed database.\u001b[0m\n",
      "\u001b[32m2025-02-09 20:37:00.027\u001b[0m | \u001b[1mINFO    \u001b[0m | \u001b[36mdb03_queries\u001b[0m:\u001b[36maggregation\u001b[0m:\u001b[36m118\u001b[0m - \u001b[1mDatabase connection closed.\u001b[0m\n"
     ]
    },
    {
     "ename": "NameError",
     "evalue": "name 'avg_height_in' is not defined",
     "output_type": "error",
     "traceback": [
      "\u001b[1;31m---------------------------------------------------------------------------\u001b[0m",
      "\u001b[1;31mNameError\u001b[0m                                 Traceback (most recent call last)",
      "Cell \u001b[1;32mIn[9], line 9\u001b[0m\n\u001b[0;32m      5\u001b[0m \u001b[38;5;28;01mfrom\u001b[39;00m\u001b[38;5;250m \u001b[39m\u001b[38;5;21;01mutils_logger\u001b[39;00m\u001b[38;5;250m \u001b[39m\u001b[38;5;28;01mimport\u001b[39;00m logger\n\u001b[0;32m      6\u001b[0m \u001b[38;5;28;01mimport\u001b[39;00m\u001b[38;5;250m \u001b[39m\u001b[38;5;21;01mdb03_queries\u001b[39;00m\u001b[38;5;250m \u001b[39m\u001b[38;5;28;01mas\u001b[39;00m\u001b[38;5;250m \u001b[39m\u001b[38;5;21;01mqueries\u001b[39;00m\n\u001b[1;32m----> 9\u001b[0m \u001b[43mqueries\u001b[49m\u001b[38;5;241;43m.\u001b[39;49m\u001b[43maggregation\u001b[49m\u001b[43m(\u001b[49m\u001b[43m)\u001b[49m\n",
      "File \u001b[1;32mc:\\Projects\\MS_Data_Analytics\\Data_Fundamentals\\datafun-05-sql-project\\db03_queries.py:120\u001b[0m, in \u001b[0;36maggregation\u001b[1;34m()\u001b[0m\n\u001b[0;32m    112\u001b[0m \u001b[38;5;28;01mdef\u001b[39;00m\u001b[38;5;250m \u001b[39m\u001b[38;5;21maggregation\u001b[39m():\n\u001b[0;32m    113\u001b[0m \u001b[38;5;250m    \u001b[39m\u001b[38;5;124;03m'''Calculate several parameters for players and games:\u001b[39;00m\n\u001b[0;32m    114\u001b[0m \u001b[38;5;124;03m    - avg_height_in\u001b[39;00m\n\u001b[0;32m    115\u001b[0m \u001b[38;5;124;03m    - avg_weight\u001b[39;00m\n\u001b[0;32m    116\u001b[0m \u001b[38;5;124;03m    - bubble_games\u001b[39;00m\n\u001b[0;32m    117\u001b[0m \u001b[38;5;124;03m    - regular_games\u001b[39;00m\n\u001b[0;32m    118\u001b[0m \u001b[38;5;124;03m    - bubble_home_points\u001b[39;00m\n\u001b[0;32m    119\u001b[0m \u001b[38;5;124;03m    - bubble_away_points\u001b[39;00m\n\u001b[1;32m--> 120\u001b[0m \u001b[38;5;124;03m    - regular_home_points\u001b[39;00m\n\u001b[0;32m    121\u001b[0m \u001b[38;5;124;03m    - regular_away_points'''\u001b[39;00m\n\u001b[0;32m    122\u001b[0m     \u001b[38;5;28;01mtry\u001b[39;00m:\n\u001b[0;32m    123\u001b[0m         logger\u001b[38;5;241m.\u001b[39minfo(\u001b[38;5;124mf\u001b[39m\u001b[38;5;124m\"\u001b[39m\u001b[38;5;124mConnected to database: \u001b[39m\u001b[38;5;132;01m{\u001b[39;00mDB_PATH\u001b[38;5;132;01m}\u001b[39;00m\u001b[38;5;124m\"\u001b[39m)\n",
      "\u001b[1;31mNameError\u001b[0m: name 'avg_height_in' is not defined"
     ]
    }
   ],
   "source": [
    "import sqlite3\n",
    "import pathlib\n",
    "import pandas as pd\n",
    "# Import local modules\n",
    "from utils_logger import logger\n",
    "import db03_queries as queries\n",
    "\n",
    "\n",
    "queries.aggregation()"
   ]
  },
  {
   "cell_type": "code",
   "execution_count": 10,
   "metadata": {},
   "outputs": [
    {
     "name": "stdout",
     "output_type": "stream",
     "text": [
      "c:\\Projects\\MS_Data_Analytics\\Data_Fundamentals\\datafun-05-sql-project\n"
     ]
    }
   ],
   "source": [
    "import os\n",
    "print(os.getcwd())  # Print the current working directory\n",
    "# os.chdir('/c:/Projects/MS_Data_Analytics/Data_Fundamentals/datafun-05-sql-project')  # Change to the correct directory"
   ]
  }
 ],
 "metadata": {
  "kernelspec": {
   "display_name": ".venv",
   "language": "python",
   "name": "python3"
  },
  "language_info": {
   "codemirror_mode": {
    "name": "ipython",
    "version": 3
   },
   "file_extension": ".py",
   "mimetype": "text/x-python",
   "name": "python",
   "nbconvert_exporter": "python",
   "pygments_lexer": "ipython3",
   "version": "3.12.7"
  }
 },
 "nbformat": 4,
 "nbformat_minor": 2
}
